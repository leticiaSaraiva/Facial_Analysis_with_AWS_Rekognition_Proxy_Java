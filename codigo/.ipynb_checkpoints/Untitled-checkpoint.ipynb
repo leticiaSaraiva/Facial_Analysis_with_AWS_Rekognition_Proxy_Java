{
 "cells": [
  {
   "cell_type": "code",
   "execution_count": 1,
   "metadata": {},
   "outputs": [],
   "source": [
    "import boto3\n",
    "import sys\n",
    "from decouple import config\n",
    "import json\n",
    "import psycopg2"
   ]
  },
  {
   "cell_type": "markdown",
   "metadata": {},
   "source": [
    "# Teste Rekognition"
   ]
  },
  {
   "cell_type": "code",
   "execution_count": 8,
   "metadata": {},
   "outputs": [],
   "source": [
    "client = boto3.client('rekognition',\"eu-west-1\")"
   ]
  },
  {
   "cell_type": "code",
   "execution_count": 9,
   "metadata": {},
   "outputs": [],
   "source": [
    "imgfile = open(\"johnny.png\",'rb')\n",
    "imgbyte = imgfile.read()\n",
    "imgobj = {'Bytes': imgbyte}"
   ]
  },
  {
   "cell_type": "code",
   "execution_count": 14,
   "metadata": {},
   "outputs": [
    {
     "data": {
      "text/plain": [
       "{'FaceDetails': [{'BoundingBox': {'Width': 0.13724826276302338,\n",
       "    'Height': 0.18666458129882812,\n",
       "    'Left': 0.36208009719848633,\n",
       "    'Top': 0.16525229811668396},\n",
       "   'AgeRange': {'Low': 26, 'High': 43},\n",
       "   'Smile': {'Value': True, 'Confidence': 99.90154266357422},\n",
       "   'Eyeglasses': {'Value': False, 'Confidence': 99.94834899902344},\n",
       "   'Sunglasses': {'Value': False, 'Confidence': 99.99336242675781},\n",
       "   'Gender': {'Value': 'Male', 'Confidence': 99.74726104736328},\n",
       "   'Beard': {'Value': False, 'Confidence': 98.39173889160156},\n",
       "   'Mustache': {'Value': False, 'Confidence': 99.98505401611328},\n",
       "   'EyesOpen': {'Value': True, 'Confidence': 99.99266052246094},\n",
       "   'MouthOpen': {'Value': True, 'Confidence': 99.67230987548828},\n",
       "   'Emotions': [{'Type': 'CONFUSED', 'Confidence': 0.6034807562828064},\n",
       "    {'Type': 'CALM', 'Confidence': 0.24048396944999695},\n",
       "    {'Type': 'SURPRISED', 'Confidence': 0.6314277648925781},\n",
       "    {'Type': 'SAD', 'Confidence': 0.10225696116685867},\n",
       "    {'Type': 'DISGUSTED', 'Confidence': 0.3085460364818573},\n",
       "    {'Type': 'ANGRY', 'Confidence': 0.2902866005897522},\n",
       "    {'Type': 'HAPPY', 'Confidence': 97.82352447509766}],\n",
       "   'Landmarks': [{'Type': 'eyeLeft',\n",
       "     'X': 0.39224281907081604,\n",
       "     'Y': 0.23245316743850708},\n",
       "    {'Type': 'eyeRight', 'X': 0.45590969920158386, 'Y': 0.23286880552768707},\n",
       "    {'Type': 'mouthLeft', 'X': 0.3977329730987549, 'Y': 0.2931235730648041},\n",
       "    {'Type': 'mouthRight', 'X': 0.45052438974380493, 'Y': 0.2934591472148895},\n",
       "    {'Type': 'nose', 'X': 0.42517954111099243, 'Y': 0.26178622245788574},\n",
       "    {'Type': 'leftEyeBrowLeft',\n",
       "     'X': 0.36762356758117676,\n",
       "     'Y': 0.2191043496131897},\n",
       "    {'Type': 'leftEyeBrowRight',\n",
       "     'X': 0.40578848123550415,\n",
       "     'Y': 0.21319474279880524},\n",
       "    {'Type': 'leftEyeBrowUp',\n",
       "     'X': 0.38708674907684326,\n",
       "     'Y': 0.21049074828624725},\n",
       "    {'Type': 'rightEyeBrowLeft',\n",
       "     'X': 0.44320425391197205,\n",
       "     'Y': 0.21345001459121704},\n",
       "    {'Type': 'rightEyeBrowRight',\n",
       "     'X': 0.48061421513557434,\n",
       "     'Y': 0.22008758783340454},\n",
       "    {'Type': 'rightEyeBrowUp',\n",
       "     'X': 0.46198999881744385,\n",
       "     'Y': 0.211056649684906},\n",
       "    {'Type': 'leftEyeLeft',\n",
       "     'X': 0.38139423727989197,\n",
       "     'Y': 0.23228488862514496},\n",
       "    {'Type': 'leftEyeRight',\n",
       "     'X': 0.40484941005706787,\n",
       "     'Y': 0.23276686668395996},\n",
       "    {'Type': 'leftEyeUp', 'X': 0.39249804615974426, 'Y': 0.2291339486837387},\n",
       "    {'Type': 'leftEyeDown',\n",
       "     'X': 0.39291566610336304,\n",
       "     'Y': 0.23477083444595337},\n",
       "    {'Type': 'rightEyeLeft',\n",
       "     'X': 0.44251739978790283,\n",
       "     'Y': 0.23295848071575165},\n",
       "    {'Type': 'rightEyeRight',\n",
       "     'X': 0.46563705801963806,\n",
       "     'Y': 0.23267340660095215},\n",
       "    {'Type': 'rightEyeUp', 'X': 0.45497840642929077, 'Y': 0.22942699491977692},\n",
       "    {'Type': 'rightEyeDown',\n",
       "     'X': 0.45449328422546387,\n",
       "     'Y': 0.23505228757858276},\n",
       "    {'Type': 'noseLeft', 'X': 0.41247132420539856, 'Y': 0.27050572633743286},\n",
       "    {'Type': 'noseRight', 'X': 0.4358876049518585, 'Y': 0.2705651819705963},\n",
       "    {'Type': 'mouthUp', 'X': 0.42429643869400024, 'Y': 0.2847427725791931},\n",
       "    {'Type': 'mouthDown', 'X': 0.4240812063217163, 'Y': 0.30337390303611755},\n",
       "    {'Type': 'leftPupil', 'X': 0.39224281907081604, 'Y': 0.23245316743850708},\n",
       "    {'Type': 'rightPupil', 'X': 0.45590969920158386, 'Y': 0.23286880552768707},\n",
       "    {'Type': 'upperJawlineLeft',\n",
       "     'X': 0.3506808280944824,\n",
       "     'Y': 0.23849380016326904},\n",
       "    {'Type': 'midJawlineLeft',\n",
       "     'X': 0.3649458587169647,\n",
       "     'Y': 0.30380120873451233},\n",
       "    {'Type': 'chinBottom', 'X': 0.42346858978271484, 'Y': 0.33664247393608093},\n",
       "    {'Type': 'midJawlineRight',\n",
       "     'X': 0.47864189743995667,\n",
       "     'Y': 0.3042839765548706},\n",
       "    {'Type': 'upperJawlineRight',\n",
       "     'X': 0.492295503616333,\n",
       "     'Y': 0.239092156291008}],\n",
       "   'Pose': {'Roll': -2.1701672077178955,\n",
       "    'Yaw': 4.938664436340332,\n",
       "    'Pitch': 0.9926280975341797},\n",
       "   'Quality': {'Brightness': 96.98188018798828,\n",
       "    'Sharpness': 38.89601135253906},\n",
       "   'Confidence': 100.0}],\n",
       " 'ResponseMetadata': {'RequestId': '7b79cd41-6dec-11e9-aad2-b55cf8b9d8ab',\n",
       "  'HTTPStatusCode': 200,\n",
       "  'HTTPHeaders': {'content-type': 'application/x-amz-json-1.1',\n",
       "   'date': 'Fri, 03 May 2019 21:43:32 GMT',\n",
       "   'x-amzn-requestid': '7b79cd41-6dec-11e9-aad2-b55cf8b9d8ab',\n",
       "   'content-length': '3319',\n",
       "   'connection': 'keep-alive'},\n",
       "  'RetryAttempts': 0}}"
      ]
     },
     "execution_count": 14,
     "metadata": {},
     "output_type": "execute_result"
    }
   ],
   "source": [
    "client.detect_faces(Image= imgobj, Attributes=['ALL'])"
   ]
  },
  {
   "cell_type": "markdown",
   "metadata": {},
   "source": [
    "# Teste S3"
   ]
  },
  {
   "cell_type": "code",
   "execution_count": 23,
   "metadata": {},
   "outputs": [],
   "source": [
    "s3_client = boto3.client('s3')"
   ]
  },
  {
   "cell_type": "code",
   "execution_count": 30,
   "metadata": {},
   "outputs": [],
   "source": [
    "s3_bucket = 'ufcquixada'\n",
    "img_name = 'johnny.png'"
   ]
  },
  {
   "cell_type": "code",
   "execution_count": 31,
   "metadata": {},
   "outputs": [],
   "source": [
    "response = s3_client.upload_file(img_name,s3_bucket,img_name)\n"
   ]
  },
  {
   "cell_type": "code",
   "execution_count": 32,
   "metadata": {},
   "outputs": [],
   "source": [
    "buckeet = s3_client.list_objects(Bucket='ufcquixada')"
   ]
  },
  {
   "cell_type": "code",
   "execution_count": 33,
   "metadata": {},
   "outputs": [
    {
     "data": {
      "text/plain": [
       "{'ResponseMetadata': {'RequestId': '26CDE894CEF601AF',\n",
       "  'HostId': 'BSB1Cb7MKoYaJmAEwcgkmbY1oJSZo4fn5h/p8M2XKO5tMGzMcfC55FxgMU/h9jVJs/g6DKoq6nw=',\n",
       "  'HTTPStatusCode': 200,\n",
       "  'HTTPHeaders': {'x-amz-id-2': 'BSB1Cb7MKoYaJmAEwcgkmbY1oJSZo4fn5h/p8M2XKO5tMGzMcfC55FxgMU/h9jVJs/g6DKoq6nw=',\n",
       "   'x-amz-request-id': '26CDE894CEF601AF',\n",
       "   'date': 'Sat, 04 May 2019 16:09:22 GMT',\n",
       "   'x-amz-bucket-region': 'us-east-1',\n",
       "   'content-type': 'application/xml',\n",
       "   'transfer-encoding': 'chunked',\n",
       "   'server': 'AmazonS3'},\n",
       "  'RetryAttempts': 0},\n",
       " 'IsTruncated': False,\n",
       " 'Marker': '',\n",
       " 'Contents': [{'Key': 'johnny.png',\n",
       "   'LastModified': datetime.datetime(2019, 5, 4, 16, 9, 17, tzinfo=tzutc()),\n",
       "   'ETag': '\"59b1021f44b5cf8ab68590ed85ea2441\"',\n",
       "   'Size': 552881,\n",
       "   'StorageClass': 'STANDARD',\n",
       "   'Owner': {'DisplayName': 'johnnymarcos',\n",
       "    'ID': '80c38b664b1823b53a9dd744fb3d37315d98e990d1e9d9504f550cc909524528'}}],\n",
       " 'Name': 'ufcquixada',\n",
       " 'Prefix': '',\n",
       " 'MaxKeys': 1000,\n",
       " 'EncodingType': 'url'}"
      ]
     },
     "execution_count": 33,
     "metadata": {},
     "output_type": "execute_result"
    }
   ],
   "source": [
    "buckeet"
   ]
  },
  {
   "cell_type": "code",
   "execution_count": 34,
   "metadata": {},
   "outputs": [
    {
     "data": {
      "text/plain": [
       "1"
      ]
     },
     "execution_count": 34,
     "metadata": {},
     "output_type": "execute_result"
    }
   ],
   "source": [
    "len(buckeet['Contents'])"
   ]
  },
  {
   "cell_type": "markdown",
   "metadata": {},
   "source": [
    "# Teste Rekognition with S3"
   ]
  },
  {
   "cell_type": "code",
   "execution_count": 35,
   "metadata": {},
   "outputs": [],
   "source": [
    "client_r = boto3.client('rekognition','us-east-1')"
   ]
  },
  {
   "cell_type": "code",
   "execution_count": 36,
   "metadata": {},
   "outputs": [],
   "source": [
    "img = {\n",
    "    'S3Object':{\n",
    "        'Bucket': s3_bucket, 'Name': img_name\n",
    "        }\n",
    "      }\n",
    "response = client_r.detect_faces(Image=img, Attributes=['ALL'])"
   ]
  },
  {
   "cell_type": "code",
   "execution_count": 37,
   "metadata": {},
   "outputs": [
    {
     "data": {
      "text/plain": [
       "{'FaceDetails': [{'BoundingBox': {'Width': 0.13724826276302338,\n",
       "    'Height': 0.18666458129882812,\n",
       "    'Left': 0.36208009719848633,\n",
       "    'Top': 0.16525229811668396},\n",
       "   'AgeRange': {'Low': 26, 'High': 43},\n",
       "   'Smile': {'Value': True, 'Confidence': 99.90154266357422},\n",
       "   'Eyeglasses': {'Value': False, 'Confidence': 99.94834899902344},\n",
       "   'Sunglasses': {'Value': False, 'Confidence': 99.99336242675781},\n",
       "   'Gender': {'Value': 'Male', 'Confidence': 99.74726104736328},\n",
       "   'Beard': {'Value': False, 'Confidence': 98.39173889160156},\n",
       "   'Mustache': {'Value': False, 'Confidence': 99.98505401611328},\n",
       "   'EyesOpen': {'Value': True, 'Confidence': 99.99266052246094},\n",
       "   'MouthOpen': {'Value': True, 'Confidence': 99.67230987548828},\n",
       "   'Emotions': [{'Type': 'CONFUSED', 'Confidence': 0.6034807562828064},\n",
       "    {'Type': 'CALM', 'Confidence': 0.24048396944999695},\n",
       "    {'Type': 'SURPRISED', 'Confidence': 0.6314277648925781},\n",
       "    {'Type': 'SAD', 'Confidence': 0.10225696116685867},\n",
       "    {'Type': 'DISGUSTED', 'Confidence': 0.3085460364818573},\n",
       "    {'Type': 'ANGRY', 'Confidence': 0.2902866005897522},\n",
       "    {'Type': 'HAPPY', 'Confidence': 97.82352447509766}],\n",
       "   'Landmarks': [{'Type': 'eyeLeft',\n",
       "     'X': 0.39224281907081604,\n",
       "     'Y': 0.23245316743850708},\n",
       "    {'Type': 'eyeRight', 'X': 0.45590969920158386, 'Y': 0.23286880552768707},\n",
       "    {'Type': 'mouthLeft', 'X': 0.3977329730987549, 'Y': 0.2931235730648041},\n",
       "    {'Type': 'mouthRight', 'X': 0.45052438974380493, 'Y': 0.2934591472148895},\n",
       "    {'Type': 'nose', 'X': 0.42517954111099243, 'Y': 0.26178622245788574},\n",
       "    {'Type': 'leftEyeBrowLeft',\n",
       "     'X': 0.36762356758117676,\n",
       "     'Y': 0.2191043496131897},\n",
       "    {'Type': 'leftEyeBrowRight',\n",
       "     'X': 0.40578848123550415,\n",
       "     'Y': 0.21319474279880524},\n",
       "    {'Type': 'leftEyeBrowUp',\n",
       "     'X': 0.38708674907684326,\n",
       "     'Y': 0.21049074828624725},\n",
       "    {'Type': 'rightEyeBrowLeft',\n",
       "     'X': 0.44320425391197205,\n",
       "     'Y': 0.21345001459121704},\n",
       "    {'Type': 'rightEyeBrowRight',\n",
       "     'X': 0.48061421513557434,\n",
       "     'Y': 0.22008758783340454},\n",
       "    {'Type': 'rightEyeBrowUp',\n",
       "     'X': 0.46198999881744385,\n",
       "     'Y': 0.211056649684906},\n",
       "    {'Type': 'leftEyeLeft',\n",
       "     'X': 0.38139423727989197,\n",
       "     'Y': 0.23228488862514496},\n",
       "    {'Type': 'leftEyeRight',\n",
       "     'X': 0.40484941005706787,\n",
       "     'Y': 0.23276686668395996},\n",
       "    {'Type': 'leftEyeUp', 'X': 0.39249804615974426, 'Y': 0.2291339486837387},\n",
       "    {'Type': 'leftEyeDown',\n",
       "     'X': 0.39291566610336304,\n",
       "     'Y': 0.23477083444595337},\n",
       "    {'Type': 'rightEyeLeft',\n",
       "     'X': 0.44251739978790283,\n",
       "     'Y': 0.23295848071575165},\n",
       "    {'Type': 'rightEyeRight',\n",
       "     'X': 0.46563705801963806,\n",
       "     'Y': 0.23267340660095215},\n",
       "    {'Type': 'rightEyeUp', 'X': 0.45497840642929077, 'Y': 0.22942699491977692},\n",
       "    {'Type': 'rightEyeDown',\n",
       "     'X': 0.45449328422546387,\n",
       "     'Y': 0.23505228757858276},\n",
       "    {'Type': 'noseLeft', 'X': 0.41247132420539856, 'Y': 0.27050572633743286},\n",
       "    {'Type': 'noseRight', 'X': 0.4358876049518585, 'Y': 0.2705651819705963},\n",
       "    {'Type': 'mouthUp', 'X': 0.42429643869400024, 'Y': 0.2847427725791931},\n",
       "    {'Type': 'mouthDown', 'X': 0.4240812063217163, 'Y': 0.30337390303611755},\n",
       "    {'Type': 'leftPupil', 'X': 0.39224281907081604, 'Y': 0.23245316743850708},\n",
       "    {'Type': 'rightPupil', 'X': 0.45590969920158386, 'Y': 0.23286880552768707},\n",
       "    {'Type': 'upperJawlineLeft',\n",
       "     'X': 0.3506808280944824,\n",
       "     'Y': 0.23849380016326904},\n",
       "    {'Type': 'midJawlineLeft',\n",
       "     'X': 0.3649458587169647,\n",
       "     'Y': 0.30380120873451233},\n",
       "    {'Type': 'chinBottom', 'X': 0.42346858978271484, 'Y': 0.33664247393608093},\n",
       "    {'Type': 'midJawlineRight',\n",
       "     'X': 0.47864189743995667,\n",
       "     'Y': 0.3042839765548706},\n",
       "    {'Type': 'upperJawlineRight',\n",
       "     'X': 0.492295503616333,\n",
       "     'Y': 0.239092156291008}],\n",
       "   'Pose': {'Roll': -2.1701672077178955,\n",
       "    'Yaw': 4.938664436340332,\n",
       "    'Pitch': 0.9926280975341797},\n",
       "   'Quality': {'Brightness': 96.98188018798828,\n",
       "    'Sharpness': 38.89601135253906},\n",
       "   'Confidence': 100.0}],\n",
       " 'ResponseMetadata': {'RequestId': '049d039a-6e87-11e9-90f6-c7b48785c5c4',\n",
       "  'HTTPStatusCode': 200,\n",
       "  'HTTPHeaders': {'content-type': 'application/x-amz-json-1.1',\n",
       "   'date': 'Sat, 04 May 2019 16:09:39 GMT',\n",
       "   'x-amzn-requestid': '049d039a-6e87-11e9-90f6-c7b48785c5c4',\n",
       "   'content-length': '3319',\n",
       "   'connection': 'keep-alive'},\n",
       "  'RetryAttempts': 0}}"
      ]
     },
     "execution_count": 37,
     "metadata": {},
     "output_type": "execute_result"
    }
   ],
   "source": [
    "response"
   ]
  },
  {
   "cell_type": "markdown",
   "metadata": {},
   "source": [
    "# Teste RDS e VPC"
   ]
  },
  {
   "cell_type": "code",
   "execution_count": 102,
   "metadata": {},
   "outputs": [],
   "source": [
    "service_ec2 = boto3.resource('ec2','sa-east-1')"
   ]
  },
  {
   "cell_type": "code",
   "execution_count": 103,
   "metadata": {},
   "outputs": [],
   "source": [
    "VPC = service_ec2.Vpc('vpc-0975777e69fceb903')"
   ]
  },
  {
   "cell_type": "code",
   "execution_count": 9,
   "metadata": {},
   "outputs": [],
   "source": [
    "rds_client = boto3.client('rds','sa-east-1')"
   ]
  },
  {
   "cell_type": "code",
   "execution_count": 10,
   "metadata": {},
   "outputs": [
    {
     "data": {
      "text/plain": [
       "{'DBInstances': [{'DBInstanceIdentifier': 'nuvemufc',\n",
       "   'DBInstanceClass': 'db.t2.micro',\n",
       "   'Engine': 'postgres',\n",
       "   'DBInstanceStatus': 'available',\n",
       "   'MasterUsername': 'nuvemufc',\n",
       "   'DBName': 'nuvemufc',\n",
       "   'Endpoint': {'Address': 'nuvemufc.c8hjg7bwthtd.sa-east-1.rds.amazonaws.com',\n",
       "    'Port': 5432,\n",
       "    'HostedZoneId': 'ZLRUIUX7Z3ZF7'},\n",
       "   'AllocatedStorage': 20,\n",
       "   'InstanceCreateTime': datetime.datetime(2019, 5, 15, 18, 35, 8, 672000, tzinfo=tzutc()),\n",
       "   'PreferredBackupWindow': '03:53-04:23',\n",
       "   'BackupRetentionPeriod': 7,\n",
       "   'DBSecurityGroups': [],\n",
       "   'VpcSecurityGroups': [{'VpcSecurityGroupId': 'sg-0929475daa02eefdc',\n",
       "     'Status': 'active'}],\n",
       "   'DBParameterGroups': [{'DBParameterGroupName': 'default.postgres10',\n",
       "     'ParameterApplyStatus': 'in-sync'}],\n",
       "   'AvailabilityZone': 'sa-east-1c',\n",
       "   'DBSubnetGroup': {'DBSubnetGroupName': 'default',\n",
       "    'DBSubnetGroupDescription': 'default',\n",
       "    'VpcId': 'vpc-0397c664',\n",
       "    'SubnetGroupStatus': 'Complete',\n",
       "    'Subnets': [{'SubnetIdentifier': 'subnet-2fc20049',\n",
       "      'SubnetAvailabilityZone': {'Name': 'sa-east-1a'},\n",
       "      'SubnetStatus': 'Active'},\n",
       "     {'SubnetIdentifier': 'subnet-145b924f',\n",
       "      'SubnetAvailabilityZone': {'Name': 'sa-east-1c'},\n",
       "      'SubnetStatus': 'Active'}]},\n",
       "   'PreferredMaintenanceWindow': 'mon:02:32-mon:03:02',\n",
       "   'PendingModifiedValues': {},\n",
       "   'LatestRestorableTime': datetime.datetime(2019, 5, 15, 23, 50, 37, tzinfo=tzutc()),\n",
       "   'MultiAZ': False,\n",
       "   'EngineVersion': '10.6',\n",
       "   'AutoMinorVersionUpgrade': True,\n",
       "   'ReadReplicaDBInstanceIdentifiers': [],\n",
       "   'LicenseModel': 'postgresql-license',\n",
       "   'OptionGroupMemberships': [{'OptionGroupName': 'default:postgres-10',\n",
       "     'Status': 'in-sync'}],\n",
       "   'PubliclyAccessible': True,\n",
       "   'StorageType': 'gp2',\n",
       "   'DbInstancePort': 0,\n",
       "   'StorageEncrypted': False,\n",
       "   'DbiResourceId': 'db-YIO6EPQXYPGPRVW655NXXJFQU4',\n",
       "   'CACertificateIdentifier': 'rds-ca-2015',\n",
       "   'DomainMemberships': [],\n",
       "   'CopyTagsToSnapshot': True,\n",
       "   'MonitoringInterval': 60,\n",
       "   'EnhancedMonitoringResourceArn': 'arn:aws:logs:sa-east-1:950225647061:log-group:RDSOSMetrics:log-stream:db-YIO6EPQXYPGPRVW655NXXJFQU4',\n",
       "   'MonitoringRoleArn': 'arn:aws:iam::950225647061:role/rds-monitoring-role',\n",
       "   'DBInstanceArn': 'arn:aws:rds:sa-east-1:950225647061:db:nuvemufc',\n",
       "   'IAMDatabaseAuthenticationEnabled': False,\n",
       "   'PerformanceInsightsEnabled': True,\n",
       "   'PerformanceInsightsKMSKeyId': 'arn:aws:kms:sa-east-1:950225647061:key/51d975c5-e8d8-48ba-9bdd-f5312fca80de',\n",
       "   'PerformanceInsightsRetentionPeriod': 7,\n",
       "   'DeletionProtection': False,\n",
       "   'AssociatedRoles': []}],\n",
       " 'ResponseMetadata': {'RequestId': '3f412569-581c-48b5-82b6-d06711134e57',\n",
       "  'HTTPStatusCode': 200,\n",
       "  'HTTPHeaders': {'x-amzn-requestid': '3f412569-581c-48b5-82b6-d06711134e57',\n",
       "   'content-type': 'text/xml',\n",
       "   'content-length': '4556',\n",
       "   'vary': 'Accept-Encoding',\n",
       "   'date': 'Wed, 15 May 2019 23:53:56 GMT'},\n",
       "  'RetryAttempts': 0}}"
      ]
     },
     "execution_count": 10,
     "metadata": {},
     "output_type": "execute_result"
    }
   ],
   "source": [
    "rds = rds_client.describe_db_instances()\n",
    "rds"
   ]
  },
  {
   "cell_type": "code",
   "execution_count": 11,
   "metadata": {},
   "outputs": [
    {
     "data": {
      "text/plain": [
       "'nuvemufc'"
      ]
     },
     "execution_count": 11,
     "metadata": {},
     "output_type": "execute_result"
    }
   ],
   "source": [
    "rds['DBInstances'][0]['DBName']"
   ]
  },
  {
   "cell_type": "code",
   "execution_count": 12,
   "metadata": {},
   "outputs": [],
   "source": [
    "port = rds['DBInstances'][0]['Endpoint']['Port']\n",
    "adress = rds['DBInstances'][0]['Endpoint']['Address']\n",
    "Username = rds['DBInstances'][0]['MasterUsername']\n",
    "DBName = rds['DBInstances'][0]['DBName']"
   ]
  },
  {
   "cell_type": "code",
   "execution_count": 76,
   "metadata": {},
   "outputs": [],
   "source": [
    "postgre = psycopg2.connect(dbname=DBName, user=Username,password=Username,host=adress,port=port)"
   ]
  },
  {
   "cell_type": "code",
   "execution_count": 77,
   "metadata": {},
   "outputs": [],
   "source": [
    "cur = postgre.cursor()"
   ]
  },
  {
   "cell_type": "code",
   "execution_count": 99,
   "metadata": {},
   "outputs": [],
   "source": [
    "a = cur.execute(\"CREATE TABLE PEAPLE(USERNAME VARCHAR(50) PRIMARY KEY,PASSWORD VARCHAR(50));\")\n",
    "#"
   ]
  },
  {
   "cell_type": "code",
   "execution_count": 100,
   "metadata": {},
   "outputs": [],
   "source": [
    "a = cur.execute(\"INSERT INTO PEAPLE VALUES(%s, %s)\",(\"johnny\",\"johnny\"))"
   ]
  },
  {
   "cell_type": "code",
   "execution_count": 101,
   "metadata": {},
   "outputs": [],
   "source": [
    "nome = 'johnny'"
   ]
  },
  {
   "cell_type": "code",
   "execution_count": 115,
   "metadata": {},
   "outputs": [],
   "source": [
    "a = cur.execute(\"SELECT * FROM PEAPLE where username = %s\",(nome,))"
   ]
  },
  {
   "cell_type": "code",
   "execution_count": 112,
   "metadata": {},
   "outputs": [
    {
     "data": {
      "text/plain": [
       "1"
      ]
     },
     "execution_count": 112,
     "metadata": {},
     "output_type": "execute_result"
    }
   ],
   "source": [
    "len(cur.fetchall())"
   ]
  },
  {
   "cell_type": "code",
   "execution_count": 107,
   "metadata": {},
   "outputs": [],
   "source": [
    "postgre.rollback()"
   ]
  },
  {
   "cell_type": "code",
   "execution_count": 108,
   "metadata": {},
   "outputs": [],
   "source": [
    "postgre.commit()"
   ]
  },
  {
   "cell_type": "code",
   "execution_count": 98,
   "metadata": {},
   "outputs": [],
   "source": [
    "cur.execute(\"DROP TABLE PEAPLE\")"
   ]
  },
  {
   "cell_type": "code",
   "execution_count": 75,
   "metadata": {},
   "outputs": [],
   "source": [
    "cur.close()\n",
    "postgre.close()"
   ]
  },
  {
   "cell_type": "markdown",
   "metadata": {},
   "source": [
    "# Teste da Interface Visual"
   ]
  },
  {
   "cell_type": "code",
   "execution_count": 10,
   "metadata": {},
   "outputs": [],
   "source": [
    "import PIL \n",
    "import cv2\n",
    "import tkinter\n",
    "from tkinter import messagebox\n",
    "from  PIL import Image,ImageTk\n"
   ]
  },
  {
   "cell_type": "code",
   "execution_count": 16,
   "metadata": {},
   "outputs": [],
   "source": [
    "\n",
    "\n",
    "#class App:\n",
    "  #  def __init__(self,master=None):\n",
    "        #tkinter.Image()\n",
    "        #master.attributes(\"-fullscreen\",True)\n",
    "       # PIL.ImageTk.PhotoImage()\n",
    "        #container = tkinter.Frame(master)\n",
    "        #container[\"pady\"] = 150\n",
    "        #container[\"padx\"] = 150\n",
    "        ##container['width'] = 100\n",
    "        #container.pack()\n",
    "       # texto = tkinter.Label(container, text= \"AAA\")\n",
    "        #texto.pack()\n",
    "        \n",
    "#        height, width, no_channels = frame.shape\n",
    "       \n",
    " #       canvas = tkinter.Canvas(master, width = width, height = height)\n",
    "  #      canvas.pack()\n",
    "  #      photo = ImageTK\n",
    "   #     pass\n",
    "\n",
    "class App:\n",
    "    def __init__(self,root=None):\n",
    "        \n",
    "        #self.frame1 = tkinter.Frame(root)\n",
    "        self.frame1 = tkinter.Frame(root, borderwidth=1, relief='ridge')  \n",
    "        self.frame2 = tkinter.Frame(root, borderwidth=1, relief='ridge')  \n",
    "        self.frame3 = tkinter.Frame(root, borderwidth=1, relief='ridge')\n",
    "        \n",
    "        self.frame4 = tkinter.Frame(self.frame3, relief='ridge')  \n",
    "        self.frame5 = tkinter.Frame(self.frame3, relief='ridge')  \n",
    "        self.frame6 = tkinter.Frame(self.frame3, relief='ridge')\n",
    "     \n",
    "        self.frame1.grid(column=0, row=0, sticky=\"nsew\")  \n",
    "        self.frame2.grid(column=0, row=1, sticky=\"nsew\")  \n",
    "        self.frame3.grid(column=1, row=0, sticky=\"nsew\")\n",
    "        self.frame4.grid(column=0, row=0, sticky=\"nsew\")  \n",
    "        self.frame5.grid(column=0, row=1, sticky=\"nsew\")  \n",
    "        self.frame6.grid(column=0, row=3, sticky=\"nsew\")\n",
    " \n",
    "        #label1 = tkinter.Label(frame1, text=\"Simple label\")  \n",
    "        #button1 = tkinter.Button(frame2, text=\"Simple button\")  \n",
    "        #button2 = tkinter.Button(frame3, text=\"Apply and close\", command=root.destroy)\n",
    " \n",
    "        \n",
    "        self.width, self.height = 800, 600\n",
    "        self.label1 = tkinter.Label(self.frame1,width=self.width,height=self.height)\n",
    "        self.llaa = tkinter.Label(self.frame4,text=\"Nome:\",font=('Courier',18))\n",
    "        self.nome = tkinter.Entry(self.frame4,font=('Courier',18))\n",
    "        self.button1 = tkinter.Button(self.frame2,text='Capturar',command=self.press_button1,width=int(self.width/13))\n",
    "        self.button2 = tkinter.Button(self.frame2,text='Cancelar',command=self.press_button2,width=int(self.width/15))\n",
    "        self.button3 = tkinter.Button(self.frame6,text='Analisar',command=self.press_button_analise,font=('Courier',18))\n",
    "\n",
    "        \n",
    "        #self.lmain.pack()\n",
    "        #self.button1.pack(side='left')\n",
    "        #self.button2.pack(side='right')\n",
    "        self.capture = cv2.VideoCapture(0)\n",
    "\n",
    "        self.capture.set(cv2.CAP_PROP_FRAME_WIDTH, self.width)\n",
    "        self.capture.set(cv2.CAP_PROP_FRAME_HEIGHT, self.height)\n",
    "        self.cam_ = 1\n",
    "       # self.lmain.grid(row=0,columns=1,columnspan=10,rowspan=8)\n",
    "        self.label1.pack(fill='x')\n",
    "        self.button1.pack(side='left')  \n",
    "        self.button2.pack(side='right')\n",
    "        self.button3.pack(fill='x')\n",
    "\n",
    "        \n",
    "        #self.button3.pack(fill='x')#side='right')\n",
    "        self.llaa.pack(side='left',pady=10)#grid(column=1,row=0,sticky='N')#.pack(side='left')\n",
    "        self.nome.pack(side='right',pady=10)#grid(column=2,row=0,)\n",
    "        \n",
    "    def show_frame(self):\n",
    "        if(self.cam_ == 1):\n",
    "            \n",
    "            ret,frame = self.capture.read()\n",
    "            frame = cv2.cvtColor(frame,cv2.COLOR_BGR2RGB)\n",
    "        \n",
    "            self.img = Image.fromarray(frame)\n",
    "            self.imgtk = ImageTk.PhotoImage(image=self.img)\n",
    "            self.label1.imgtk = self.imgtk\n",
    "            self.label1.configure(image=self.imgtk)\n",
    "        self.label1.after(10, self.show_frame)\n",
    "        \n",
    "    def press_button1(self):\n",
    "        self.cam_ = 0\n",
    "        #self.capture.release()\n",
    "    def press_button2(self):\n",
    "        \n",
    "        #self.capture = cv2.VideoCapture(0)\n",
    "        #self.capture.set(cv2.CAP_PROP_FRAME_WIDTH, self.width)\n",
    "        #self.capture.set(cv2.CAP_PROP_FRAME_HEIGHT, self.height)\n",
    "        self.cam_ = 1\n",
    "    def press_button_analise(self):\n",
    "        if(self.cam_ == 1):\n",
    "            messagebox.showinfo(\"Foto não Capturada\",\"Capture uma foto do seu rosto antes de prosseguir\")\n",
    "        else:\n",
    "            \n",
    "\n",
    "#window = App(root)\n",
    "root = tkinter.Tk()\n",
    "root.title(\"Analise de fotos\")\n",
    "app = App(root)\n",
    "app.show_frame()\n",
    "root.mainloop()\n",
    "app.capture.release()\n",
    "\n"
   ]
  },
  {
   "cell_type": "markdown",
   "metadata": {},
   "source": [
    "# Tudo junto"
   ]
  },
  {
   "cell_type": "code",
   "execution_count": 1,
   "metadata": {},
   "outputs": [],
   "source": [
    "import boto3\n",
    "import sys\n",
    "from decouple import config\n",
    "import psycopg2\n",
    "\n",
    "import PIL \n",
    "import cv2\n",
    "import tkinter\n",
    "from tkinter import messagebox\n",
    "from  PIL import Image,ImageTk\n"
   ]
  },
  {
   "cell_type": "code",
   "execution_count": 3,
   "metadata": {
    "scrolled": false
   },
   "outputs": [],
   "source": [
    "\n",
    "response = \"\"\n",
    "s3_client = boto3.client('s3')\n",
    "reko_client = boto3.client('rekognition','us-east-1')\n",
    "#response = s3_client.upload_file(img_name,s3_bucket,img_name)\n",
    "s3_bucket = 'ufcquixada'\n",
    "\n",
    "\n",
    "class App:\n",
    "    def __init__(self,root=None):\n",
    "        \n",
    "        #self.frame1 = tkinter.Frame(root)\n",
    "        self.frame1 = tkinter.Frame(root, borderwidth=1, relief='ridge')  \n",
    "        self.frame2 = tkinter.Frame(root, borderwidth=1, relief='ridge')  \n",
    "        self.frame3 = tkinter.Frame(root, borderwidth=1, relief='ridge')\n",
    "        \n",
    "        self.frame4 = tkinter.Frame(self.frame3, relief='ridge')  \n",
    "        self.frame5 = tkinter.Frame(self.frame3, relief='ridge')  \n",
    "        self.frame6 = tkinter.Frame(self.frame3, relief='ridge')\n",
    "        self.frame7 = tkinter.Frame(self.frame3, relief='ridge')\n",
    "        self.frame8 = tkinter.Frame(self.frame3, relief='ridge')\n",
    "        self.frame9 = tkinter.Frame(self.frame3, relief='ridge')\n",
    "        self.frame10 = tkinter.Frame(self.frame3, relief='ridge')\n",
    "\n",
    "        self.frame1.grid(column=0, row=0, sticky=\"nsew\")  \n",
    "        self.frame2.grid(column=0, row=1, sticky=\"nsew\")  \n",
    "        self.frame3.grid(column=1, row=0, sticky=\"nsew\")\n",
    "        \n",
    "        self.frame4.grid(column=0, row=0, sticky=\"nsew\")  \n",
    "        self.frame5.grid(column=0, row=1, sticky=\"nsew\")  \n",
    "        self.frame6.grid(column=0, row=2, sticky=\"nsew\",pady=15)\n",
    "        self.frame7.grid(column=0, row=3, sticky=\"nsew\")  \n",
    "        self.frame8.grid(column=0, row=4, sticky=\"nsew\")  \n",
    "        self.frame9.grid(column=0, row=5, sticky=\"nsew\")\n",
    "        self.frame10.grid(column=0, row=6, sticky=\"nsew\")  \n",
    " \n",
    "        #label1 = tkinter.Label(frame1, text=\"Simple label\")  \n",
    "        #button1 = tkinter.Button(frame2, text=\"Simple button\")  \n",
    "        #button2 = tkinter.Button(frame3, text=\"Apply and close\", command=root.destroy)\n",
    " \n",
    "        \n",
    "    \n",
    "        self.width, self.height = 800, 600\n",
    "        self.label1 = tkinter.Label(self.frame1,width=self.width,height=self.height)\n",
    "        self.llaa = tkinter.Label(self.frame4,text=\"Name:\",font=('Courier',15))\n",
    "        self.nome = tkinter.Entry(self.frame4,font=('Courier',15))\n",
    "        self.button1 = tkinter.Button(self.frame2,text='Capture',command=self.press_button1,width=int(self.width/13))\n",
    "        self.button2 = tkinter.Button(self.frame2,text='Try again',command=self.press_button2,width=int(self.width/15))\n",
    "        self.button3 = tkinter.Button(self.frame5,text='Analyze',command=self.press_button_analise,font=('Courier',18))\n",
    "        \n",
    "        \n",
    "        self.resum_ = tkinter.Label(self.frame6,font=('Courier',22), text='')\n",
    "        self.label_sexo = tkinter.Label(self.frame7,font=('Courier',15), text='')\n",
    "        self.faixa_i = tkinter.Label(self.frame8,font=('Courier',15), text='')\n",
    "        self.sentimento = tkinter.Label(self.frame9,font=('Courier',15), text='')\n",
    "        self.sorrindo = tkinter.Label(self.frame10,font=('Courier',15), text='')\n",
    "        \n",
    "        #self.lmain.pack()\n",
    "        #self.button1.pack(side='left')\n",
    "        #self.button2.pack(side='right')\n",
    "        self.capture = cv2.VideoCapture(0)\n",
    "\n",
    "        self.capture.set(cv2.CAP_PROP_FRAME_WIDTH, self.width)\n",
    "        self.capture.set(cv2.CAP_PROP_FRAME_HEIGHT, self.height)\n",
    "        self.cam_ = 1\n",
    "       # self.lmain.grid(row=0,columns=1,columnspan=10,rowspan=8)\n",
    "        self.label1.pack(fill='x')\n",
    "        self.button1.pack(side='left')  \n",
    "        self.button2.pack(side='right')\n",
    "        self.button3.pack(fill='x')\n",
    "        \n",
    "        self.resum_.pack(side='left')\n",
    "        \n",
    "        self.label_sexo.pack(side='left')\n",
    "        self.faixa_i.pack(side='left')\n",
    "        self.sentimento.pack(side='left')\n",
    "        self.sorrindo.pack(side='left')\n",
    "        \n",
    "        #self.button3.pack(fill='x')#side='right')\n",
    "        self.llaa.pack(side='left',pady=10)#grid(column=1,row=0,sticky='N')#.pack(side='left')\n",
    "        self.nome.pack(side='right',pady=10)#grid(column=2,row=0,)\n",
    "        \n",
    "    def show_frame(self):\n",
    "        if(self.cam_ == 1):\n",
    "            \n",
    "            ret,frame = self.capture.read()\n",
    "            self.frame = cv2.cvtColor(frame,cv2.COLOR_BGR2RGB)\n",
    "        \n",
    "            self.print_image()\n",
    "        self.label1.after(10, self.show_frame)\n",
    "        \n",
    "    def press_button1(self):\n",
    "        self.cam_ = 0\n",
    "        #self.capture.release()\n",
    "    def print_image(self):\n",
    "        self.img = Image.fromarray(self.frame)\n",
    "        self.imgtk = ImageTk.PhotoImage(image=self.img)\n",
    "        self.label1.imgtk = self.imgtk\n",
    "        self.label1.configure(image=self.imgtk)\n",
    "    \n",
    "    def press_button2(self):\n",
    "        \n",
    "        #self.capture = cv2.VideoCapture(0)\n",
    "        #self.capture.set(cv2.CAP_PROP_FRAME_WIDTH, self.width)\n",
    "        #self.capture.set(cv2.CAP_PROP_FRAME_HEIGHT, self.height)\n",
    "        self.cam_ = 1\n",
    "        self.resum_.config(text='')\n",
    "        self.label_sexo.config(text='')\n",
    "        self.faixa_i.config(text='')\n",
    "        self.sentimento.config(text='')\n",
    "        self.sorrindo.config(text='')\n",
    "        \n",
    "        self.nome.delete(0, 'end')\n",
    "        self.button3.config(state='normal')\n",
    "\n",
    "    def press_button_analise(self):\n",
    "        if(self.cam_ == 1):\n",
    "            messagebox.showinfo(\"Uncaptured photo\",\"Capture a photo of your face before proceeding.\")\n",
    "        if(self.nome.get() == ''):\n",
    "            messagebox.showinfo(\"Name's field incomplete\", \"Enter your name to continue the analysis.\")\n",
    "        else:\n",
    "            buckeet = s3_client.list_objects(Bucket=s3_bucket)\n",
    "            name = self.nome.get()\n",
    "            num = len(buckeet['Contents'])\n",
    "            file_name = 'img{}.png'.format(num)\n",
    "            self.img.save(file_name)\n",
    "            response = s3_client.upload_file(file_name,s3_bucket,file_name)\n",
    "            img = {\n",
    "                'S3Object':{\n",
    "                'Bucket': s3_bucket, 'Name': file_name\n",
    "                }\n",
    "            }\n",
    "            self.response = reko_client.detect_faces(Image=img, Attributes=['ALL'])\n",
    "            \n",
    "            if(len(self.response['FaceDetails']) == 1):\n",
    "                self.resum_.config(text=\"Analyze summary\")\n",
    "                self.label_sexo.config(text=\"Sex: {}\".format(self.response['FaceDetails'][0]['Gender']['Value']))\n",
    "                #print(self.response)\n",
    "                self.button3.config(state='disable')\n",
    "                \n",
    "                self.faixa_i.config(text='Age range: Between {} and {}'.format(self.response['FaceDetails'][0]['AgeRange']['Low'],self.response['FaceDetails'][0]['AgeRange']['High']))\n",
    "                \n",
    "                \n",
    "                best_sentimento = 0\n",
    "                indice = 0\n",
    "                name_sentimento = ''                \n",
    "                for i in range(len(self.response['FaceDetails'][0]['Emotions'])):\n",
    "                    if(self.response['FaceDetails'][0]['Emotions'][i]['Confidence'] > best_sentimento):\n",
    "                        indice = i\n",
    "                        best_sentimento = self.response['FaceDetails'][0]['Emotions'][i]['Confidence']\n",
    "\n",
    "                self.sentimento.config(text = 'Predominant sentiment: {}'.format(self.response['FaceDetails'][0]['Emotions'][indice]['Type']))\n",
    "                sorrindo = ''\n",
    "                if(self.response['FaceDetails'][0]['Smile']['Value']):\n",
    "                    sorrindo = 'Yes'\n",
    "                else:\n",
    "                    sorrindo = 'No'\n",
    "                self.sorrindo.config(text='Smiling: {}'.format(sorrindo))\n",
    "                \n",
    "                width = int(self.frame.shape[1] * self.response['FaceDetails'][0]['BoundingBox']['Width'])\n",
    "                height = int(self.frame.shape[0] * self.response['FaceDetails'][0]['BoundingBox']['Height'])\n",
    "                top = int(self.frame.shape[0] * self.response['FaceDetails'][0]['BoundingBox']['Top'])\n",
    "                left = int(self.frame.shape[1] * self.response['FaceDetails'][0]['BoundingBox']['Left'])\n",
    "\n",
    "                cv2.rectangle(self.frame,(left,top),(left+width,top+height),(0,255,0),2)\n",
    "                \n",
    "                \n",
    "                self.print_image()\n",
    "               \n",
    "            else:\n",
    "                messagebox.showinfo(\"Multiple faces in the image\", \"Capture only one face in the photo.\")\n",
    "                \n",
    "#window = App(root)\n",
    "root = tkinter.Tk()\n",
    "root.title(\"Photo analysis\")\n",
    "app = App(root)\n",
    "app.show_frame()\n",
    "root.mainloop()\n",
    "app.capture.release()\n",
    "\n"
   ]
  },
  {
   "cell_type": "code",
   "execution_count": 3,
   "metadata": {
    "scrolled": false
   },
   "outputs": [
    {
     "data": {
      "text/plain": [
       "{'FaceDetails': [{'BoundingBox': {'Width': 0.2822965681552887,\n",
       "    'Height': 0.5123014450073242,\n",
       "    'Left': 0.5083616375923157,\n",
       "    'Top': 0.10885963588953018},\n",
       "   'AgeRange': {'Low': 23, 'High': 38},\n",
       "   'Smile': {'Value': False, 'Confidence': 99.54960632324219},\n",
       "   'Eyeglasses': {'Value': False, 'Confidence': 99.98766326904297},\n",
       "   'Sunglasses': {'Value': False, 'Confidence': 99.99755096435547},\n",
       "   'Gender': {'Value': 'Male', 'Confidence': 97.91226959228516},\n",
       "   'Beard': {'Value': False, 'Confidence': 96.60122680664062},\n",
       "   'Mustache': {'Value': False, 'Confidence': 99.84961700439453},\n",
       "   'EyesOpen': {'Value': True, 'Confidence': 99.81004333496094},\n",
       "   'MouthOpen': {'Value': False, 'Confidence': 99.74287414550781},\n",
       "   'Emotions': [{'Type': 'CONFUSED', 'Confidence': 3.7995054721832275},\n",
       "    {'Type': 'DISGUSTED', 'Confidence': 0.6681510210037231},\n",
       "    {'Type': 'SAD', 'Confidence': 2.224867343902588},\n",
       "    {'Type': 'SURPRISED', 'Confidence': 2.287059783935547},\n",
       "    {'Type': 'HAPPY', 'Confidence': 0.3435681462287903},\n",
       "    {'Type': 'CALM', 'Confidence': 89.04166412353516},\n",
       "    {'Type': 'ANGRY', 'Confidence': 1.635175347328186}],\n",
       "   'Landmarks': [{'Type': 'eyeLeft',\n",
       "     'X': 0.5630457997322083,\n",
       "     'Y': 0.26791682839393616},\n",
       "    {'Type': 'eyeRight', 'X': 0.693510890007019, 'Y': 0.25960901379585266},\n",
       "    {'Type': 'mouthLeft', 'X': 0.5806540250778198, 'Y': 0.46837928891181946},\n",
       "    {'Type': 'mouthRight', 'X': 0.6882354021072388, 'Y': 0.46111539006233215},\n",
       "    {'Type': 'nose', 'X': 0.6367796063423157, 'Y': 0.36518940329551697},\n",
       "    {'Type': 'leftEyeBrowLeft',\n",
       "     'X': 0.509291410446167,\n",
       "     'Y': 0.22847671806812286},\n",
       "    {'Type': 'leftEyeBrowRight',\n",
       "     'X': 0.5898600220680237,\n",
       "     'Y': 0.20517182350158691},\n",
       "    {'Type': 'leftEyeBrowUp',\n",
       "     'X': 0.5500457882881165,\n",
       "     'Y': 0.20000965893268585},\n",
       "    {'Type': 'rightEyeBrowLeft',\n",
       "     'X': 0.6669063568115234,\n",
       "     'Y': 0.20043568313121796},\n",
       "    {'Type': 'rightEyeBrowRight',\n",
       "     'X': 0.7420206665992737,\n",
       "     'Y': 0.212968111038208},\n",
       "    {'Type': 'rightEyeBrowUp',\n",
       "     'X': 0.7046693563461304,\n",
       "     'Y': 0.18885721266269684},\n",
       "    {'Type': 'leftEyeLeft', 'X': 0.5396230220794678, 'Y': 0.2699597179889679},\n",
       "    {'Type': 'leftEyeRight', 'X': 0.58877032995224, 'Y': 0.2689806818962097},\n",
       "    {'Type': 'leftEyeUp', 'X': 0.5628712177276611, 'Y': 0.25900137424468994},\n",
       "    {'Type': 'leftEyeDown', 'X': 0.5642104744911194, 'Y': 0.27713754773139954},\n",
       "    {'Type': 'rightEyeLeft',\n",
       "     'X': 0.6666625142097473,\n",
       "     'Y': 0.26415902376174927},\n",
       "    {'Type': 'rightEyeRight',\n",
       "     'X': 0.7141551375389099,\n",
       "     'Y': 0.25901269912719727},\n",
       "    {'Type': 'rightEyeUp', 'X': 0.6923474669456482, 'Y': 0.2508985102176666},\n",
       "    {'Type': 'rightEyeDown',\n",
       "     'X': 0.6918454766273499,\n",
       "     'Y': 0.26910191774368286},\n",
       "    {'Type': 'noseLeft', 'X': 0.6098088622093201, 'Y': 0.39319270849227905},\n",
       "    {'Type': 'noseRight', 'X': 0.6579399108886719, 'Y': 0.3885568678379059},\n",
       "    {'Type': 'mouthUp', 'X': 0.6357107162475586, 'Y': 0.43663108348846436},\n",
       "    {'Type': 'mouthDown', 'X': 0.6366176605224609, 'Y': 0.49649935960769653},\n",
       "    {'Type': 'leftPupil', 'X': 0.5630457997322083, 'Y': 0.26791682839393616},\n",
       "    {'Type': 'rightPupil', 'X': 0.693510890007019, 'Y': 0.25960901379585266},\n",
       "    {'Type': 'upperJawlineLeft',\n",
       "     'X': 0.47169727087020874,\n",
       "     'Y': 0.2863166630268097},\n",
       "    {'Type': 'midJawlineLeft',\n",
       "     'X': 0.5085378885269165,\n",
       "     'Y': 0.49458664655685425},\n",
       "    {'Type': 'chinBottom', 'X': 0.6372159123420715, 'Y': 0.5994908809661865},\n",
       "    {'Type': 'midJawlineRight',\n",
       "     'X': 0.7439001202583313,\n",
       "     'Y': 0.4801093637943268},\n",
       "    {'Type': 'upperJawlineRight',\n",
       "     'X': 0.7645732164382935,\n",
       "     'Y': 0.26816725730895996}],\n",
       "   'Pose': {'Roll': -3.110727548599243,\n",
       "    'Yaw': 2.976027250289917,\n",
       "    'Pitch': -6.327358722686768},\n",
       "   'Quality': {'Brightness': 39.075523376464844,\n",
       "    'Sharpness': 53.330047607421875},\n",
       "   'Confidence': 99.99993896484375}],\n",
       " 'ResponseMetadata': {'RequestId': '72ef6089-70e6-11e9-952d-25342645ebd2',\n",
       "  'HTTPStatusCode': 200,\n",
       "  'HTTPHeaders': {'content-type': 'application/x-amz-json-1.1',\n",
       "   'date': 'Tue, 07 May 2019 16:37:48 GMT',\n",
       "   'x-amzn-requestid': '72ef6089-70e6-11e9-952d-25342645ebd2',\n",
       "   'content-length': '3301',\n",
       "   'connection': 'keep-alive'},\n",
       "  'RetryAttempts': 0}}"
      ]
     },
     "execution_count": 3,
     "metadata": {},
     "output_type": "execute_result"
    }
   ],
   "source": [
    "app.response"
   ]
  },
  {
   "cell_type": "code",
   "execution_count": 6,
   "metadata": {},
   "outputs": [
    {
     "ename": "NameError",
     "evalue": "name 'app' is not defined",
     "output_type": "error",
     "traceback": [
      "\u001b[0;31m---------------------------------------------------------------------------\u001b[0m",
      "\u001b[0;31mNameError\u001b[0m                                 Traceback (most recent call last)",
      "\u001b[0;32m<ipython-input-6-5209a44faa81>\u001b[0m in \u001b[0;36m<module>\u001b[0;34m\u001b[0m\n\u001b[0;32m----> 1\u001b[0;31m \u001b[0mapp\u001b[0m\u001b[0;34m.\u001b[0m\u001b[0mresponse\u001b[0m\u001b[0;34m[\u001b[0m\u001b[0;34m'FaceDetails'\u001b[0m\u001b[0;34m]\u001b[0m\u001b[0;34m[\u001b[0m\u001b[0;36m0\u001b[0m\u001b[0;34m]\u001b[0m\u001b[0;34m[\u001b[0m\u001b[0;34m'BoundingBox'\u001b[0m\u001b[0;34m]\u001b[0m\u001b[0;34m[\u001b[0m\u001b[0;34m'Width'\u001b[0m\u001b[0;34m]\u001b[0m\u001b[0;34m\u001b[0m\u001b[0;34m\u001b[0m\u001b[0m\n\u001b[0m",
      "\u001b[0;31mNameError\u001b[0m: name 'app' is not defined"
     ]
    }
   ],
   "source": [
    "app.response['FaceDetails'][0]['BoundingBox']['Width']"
   ]
  },
  {
   "cell_type": "code",
   "execution_count": 56,
   "metadata": {},
   "outputs": [
    {
     "data": {
      "text/plain": [
       "129"
      ]
     },
     "execution_count": 56,
     "metadata": {},
     "output_type": "execute_result"
    }
   ],
   "source": [
    "width = int(app.frame.shape[1] * app.response['FaceDetails'][0]['BoundingBox']['Width'])\n",
    "height = int(app.frame.shape[0] * app.response['FaceDetails'][0]['BoundingBox']['Height'])\n",
    "top = int(app.frame.shape[0] * app.response['FaceDetails'][0]['BoundingBox']['Top'])\n",
    "left = int(app.frame.shape[1] * app.response['FaceDetails'][0]['BoundingBox']['Left'])\n"
   ]
  },
  {
   "cell_type": "code",
   "execution_count": null,
   "metadata": {},
   "outputs": [],
   "source": [
    "cv2.rectangle(self.frame,(left,top),(left+width,top+height),(0,255,0),2)\n"
   ]
  },
  {
   "cell_type": "code",
   "execution_count": 4,
   "metadata": {},
   "outputs": [],
   "source": [
    "response = {'FaceDetails': [{'BoundingBox': {'Width': 0.18410849571228027, 'Height': 0.34173160791397095, 'Left': 0.3236214518547058, 'Top': 0.2624189555644989}, 'AgeRange': {'Low': 26, 'High': 43}, 'Smile': {'Value': True, 'Confidence': 99.82322692871094}, 'Eyeglasses': {'Value': False, 'Confidence': 99.98889923095703}, 'Sunglasses': {'Value': False, 'Confidence': 99.99835205078125}, 'Gender': {'Value': 'Male', 'Confidence': 99.01911926269531}, 'Beard': {'Value': True, 'Confidence': 86.66632843017578}, 'Mustache': {'Value': False, 'Confidence': 99.50183868408203}, 'EyesOpen': {'Value': True, 'Confidence': 99.78540802001953}, 'MouthOpen': {'Value': True, 'Confidence': 99.91459655761719}, 'Emotions': [{'Type': 'SURPRISED', 'Confidence': 11.13640022277832}, {'Type': 'HAPPY', 'Confidence': 69.01665496826172}, {'Type': 'CALM', 'Confidence': 0.4907136857509613}, {'Type': 'DISGUSTED', 'Confidence': 5.691474437713623}, {'Type': 'ANGRY', 'Confidence': 6.6210174560546875}, {'Type': 'SAD', 'Confidence': 3.401015043258667}, {'Type': 'CONFUSED', 'Confidence': 3.6427221298217773}], 'Landmarks': [{'Type': 'eyeLeft', 'X': 0.3710809648036957, 'Y': 0.37431401014328003}, {'Type': 'eyeRight', 'X': 0.4556610584259033, 'Y': 0.3824715316295624}, {'Type': 'mouthLeft', 'X': 0.3728703558444977, 'Y': 0.4957837760448456}, {'Type': 'mouthRight', 'X': 0.4427418112754822, 'Y': 0.5025220513343811}, {'Type': 'nose', 'X': 0.41280633211135864, 'Y': 0.43284377455711365}, {'Type': 'leftEyeBrowLeft', 'X': 0.33891046047210693, 'Y': 0.3470035791397095}, {'Type': 'leftEyeBrowRight', 'X': 0.3910094201564789, 'Y': 0.33637067675590515}, {'Type': 'leftEyeBrowUp', 'X': 0.3659839332103729, 'Y': 0.33031022548675537}, {'Type': 'rightEyeBrowLeft', 'X': 0.4409070312976837, 'Y': 0.34122633934020996}, {'Type': 'rightEyeBrowRight', 'X': 0.4895228147506714, 'Y': 0.3614344894886017}, {'Type': 'rightEyeBrowUp', 'X': 0.4660281538963318, 'Y': 0.33937403559684753}, {'Type': 'leftEyeLeft', 'X': 0.356213241815567, 'Y': 0.3739263713359833}, {'Type': 'leftEyeRight', 'X': 0.38758015632629395, 'Y': 0.3771114647388458}, {'Type': 'leftEyeUp', 'X': 0.37146368622779846, 'Y': 0.36824730038642883}, {'Type': 'leftEyeDown', 'X': 0.3714788258075714, 'Y': 0.379552960395813}, {'Type': 'rightEyeLeft', 'X': 0.4378359913825989, 'Y': 0.3818724751472473}, {'Type': 'rightEyeRight', 'X': 0.46862462162971497, 'Y': 0.3844704329967499}, {'Type': 'rightEyeUp', 'X': 0.4548517167568207, 'Y': 0.37608250975608826}, {'Type': 'rightEyeDown', 'X': 0.4536451995372772, 'Y': 0.38725385069847107}, {'Type': 'noseLeft', 'X': 0.3947177529335022, 'Y': 0.4508299231529236}, {'Type': 'noseRight', 'X': 0.4257567524909973, 'Y': 0.45383885502815247}, {'Type': 'mouthUp', 'X': 0.4090287983417511, 'Y': 0.4799225628376007}, {'Type': 'mouthDown', 'X': 0.40683794021606445, 'Y': 0.5173267126083374}, {'Type': 'leftPupil', 'X': 0.3710809648036957, 'Y': 0.37431401014328003}, {'Type': 'rightPupil', 'X': 0.4556610584259033, 'Y': 0.3824715316295624}, {'Type': 'upperJawlineLeft', 'X': 0.3134082853794098, 'Y': 0.3892346918582916}, {'Type': 'midJawlineLeft', 'X': 0.32654836773872375, 'Y'': 0.5179415941238403}, {'Type': 'chinBottom', 'X': 0.40257349610328674, 'Y': 0.5840822458267212}, {'Type': 'midJawlineRight', 'X': 0.478262722492218, 'Y': 0.5320660471916199}, {'Type': 'upperJawlineRight', 'X': 0.5023181438446045, 'Y': 0.4068117141723633}], 'Pose': {'Roll': 2.744190216064453, 'Yaw': -0.7172296047210693, 'Pitch': 11.120391845703125}, 'Quality': {'Brightness': 24.724157333374023, 'Sharpness': 46.02980041503906}, 'Confidence': 100.0}], 'ResponseMetadata': {'RequestId': '8be31501-7020-11e9-bb1b-11f37354c13a', 'HTTPStatusCode': 200, 'HTTPHeaders': {'content-type': 'application/x-amz-json-1.1', 'date': 'Mon, 06 May 2019 17:01:10 GMT', 'x-amzn-requestid': '8be31501-7020-11e9-bb1b-11f37354c13a', 'content-length': '3286', 'connection': 'keep-alive'}, 'RetryAttempts': 0}}"
   ]
  },
  {
   "cell_type": "code",
   "execution_count": 31,
   "metadata": {},
   "outputs": [
    {
     "data": {
      "text/plain": [
       "'Male'"
      ]
     },
     "execution_count": 31,
     "metadata": {},
     "output_type": "execute_result"
    }
   ],
   "source": [
    "response['FaceDetails'][0]['Gender']['Value']"
   ]
  },
  {
   "cell_type": "code",
   "execution_count": 7,
   "metadata": {},
   "outputs": [
    {
     "data": {
      "text/plain": [
       "'Male'"
      ]
     },
     "execution_count": 7,
     "metadata": {},
     "output_type": "execute_result"
    }
   ],
   "source": [
    "gender = response['FaceDetails'][0]['Gender']['Value']\n",
    "gender"
   ]
  },
  {
   "cell_type": "code",
   "execution_count": 4,
   "metadata": {},
   "outputs": [],
   "source": [
    "response = app.response"
   ]
  },
  {
   "cell_type": "code",
   "execution_count": 5,
   "metadata": {},
   "outputs": [
    {
     "name": "stdout",
     "output_type": "stream",
     "text": [
      "CALM\n"
     ]
    }
   ],
   "source": [
    "gender = response['FaceDetails'][0]['Gender']['Value']\n",
    "\n",
    "best_sentimento = 0\n",
    "indice = 0\n",
    "name_sentimento = ''\n",
    "if(len(response['FaceDetails']) == 1):\n",
    "    for i in range(len(response['FaceDetails'][0]['Emotions'])):\n",
    "        if(response['FaceDetails'][0]['Emotions'][i]['Confidence'] > best_sentimento):\n",
    "            indice = i\n",
    "            best_sentimento = response['FaceDetails'][0]['Emotions'][i]['Confidence']\n",
    "\n",
    "print(response['FaceDetails'][0]['Emotions'][indice]['Type'])"
   ]
  },
  {
   "cell_type": "code",
   "execution_count": null,
   "metadata": {},
   "outputs": [],
   "source": []
  }
 ],
 "metadata": {
  "kernelspec": {
   "display_name": "Python 3",
   "language": "python",
   "name": "python3"
  },
  "language_info": {
   "codemirror_mode": {
    "name": "ipython",
    "version": 3
   },
   "file_extension": ".py",
   "mimetype": "text/x-python",
   "name": "python",
   "nbconvert_exporter": "python",
   "pygments_lexer": "ipython3",
   "version": "3.6.8"
  }
 },
 "nbformat": 4,
 "nbformat_minor": 2
}
